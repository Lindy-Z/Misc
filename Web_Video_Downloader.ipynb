{
 "cells": [
  {
   "cell_type": "code",
   "execution_count": null,
   "id": "e104948f-28f6-41d7-906c-ebef4fa90429",
   "metadata": {
    "scrolled": true
   },
   "outputs": [],
   "source": [
    "pip install -U \"yt-dlp[default]\""
   ]
  },
  {
   "cell_type": "code",
   "execution_count": 15,
   "id": "4ad15c77-691c-4aee-a897-15e8a0342a4e",
   "metadata": {},
   "outputs": [],
   "source": [
    "import os\n",
    "from yt_dlp import YoutubeDL"
   ]
  },
  {
   "cell_type": "code",
   "execution_count": 16,
   "id": "321c0077-ab90-4b29-aca0-197852c3ea1b",
   "metadata": {},
   "outputs": [],
   "source": [
    "# URL Input Function\n",
    "\n",
    "lstURL = []\n",
    "def list_input():\n",
    "    a = True\n",
    "    while a:\n",
    "        ipt_URL = input('Enter the URL: ').strip()\n",
    "        if ipt_URL == 'W':\n",
    "            a = False\n",
    "        else:\n",
    "            lstURL.append(ipt_URL)\n",
    "    "
   ]
  },
  {
   "cell_type": "code",
   "execution_count": 17,
   "id": "e3c2aa57-8dd6-4cc0-b9e1-dc2aa90b2cd0",
   "metadata": {},
   "outputs": [],
   "source": [
    "# URL Clear Function\n",
    "\n",
    "def pop_list():\n",
    "    pop = input('You wanna clean the list? Y/N')\n",
    "    if pop.upper() == 'Y':\n",
    "        lstURL.clear()\n",
    "    elif pop.upper() == 'N':\n",
    "        print(lstURL)\n",
    "        cntr = 0\n",
    "        for j in lstURL:\n",
    "            cntr += 1\n",
    "        print(f'Total URLs Amount: {cntr}')\n",
    "    else:\n",
    "        raise ValueError(\"WTF you input?\")"
   ]
  },
  {
   "cell_type": "code",
   "execution_count": null,
   "id": "9723f8a9-cb8d-49ca-906f-8b91bf8d2569",
   "metadata": {},
   "outputs": [],
   "source": [
    "# Input URLs Here, enter (W) to stop:\n",
    "list_input()"
   ]
  },
  {
   "cell_type": "code",
   "execution_count": null,
   "id": "e8834a62-e2c2-4541-981b-0a2ec49cc46a",
   "metadata": {},
   "outputs": [],
   "source": [
    "# Clean the Saved URLs List (Y) or See Detailed URLs List & Count Here:\n",
    "pop_list()"
   ]
  },
  {
   "cell_type": "code",
   "execution_count": null,
   "id": "a0b135b1-b1d5-4f00-8153-7c044dbae55d",
   "metadata": {},
   "outputs": [],
   "source": [
    "# Main Program Downloading Videos:\n",
    "\n",
    "def download_video(url, output_folder=\"Downloads\"):\n",
    "\n",
    "    if not os.path.exists(output_folder):\n",
    "        os.makedirs(output_folder)\n",
    "\n",
    "    # Download options\n",
    "    ydl_opts = {\n",
    "        'outtmpl': os.path.join(output_folder, '%(id)s.%(ext)s'),  \n",
    "        'format': 'best',  \n",
    "        'quiet': False,  \n",
    "    }\n",
    "\n",
    "    # Download video\n",
    "    with YoutubeDL(ydl_opts) as ydl:\n",
    "        ydl.download([url])\n",
    "\n",
    "if __name__ == \"__main__\":\n",
    "    output_dir = \"downloads\"\n",
    "    \n",
    "    try:\n",
    "        count_dld = 0\n",
    "        count_unsuccess_dld = 0\n",
    "        log_error_URL = []\n",
    "        for i in lstURL:\n",
    "            video_url = i\n",
    "            try:\n",
    "                download_video(video_url, output_dir)\n",
    "                count_dld += 1\n",
    "            except Exception as e:\n",
    "                log_error_URL.append(i)\n",
    "                count_unsuccess_dld += 1\n",
    "                continue\n",
    "        print(f'Downloading Task Finished. Success amount: {count_dld}, Fail amount: {count_unsuccess_dld}')\n",
    "        print(f'Failed download links:\\n {log_error_URL}')\n",
    "                \n",
    "    except Exception as e:\n",
    "        print(f\"Error occurred: {e}\")\n"
   ]
  },
  {
   "cell_type": "code",
   "execution_count": null,
   "id": "5941a3ca-2dbf-4ef2-b6cb-4f6db2f933e5",
   "metadata": {},
   "outputs": [],
   "source": [
    "# Download Path: /Works/Python/downloads"
   ]
  }
 ],
 "metadata": {
  "kernelspec": {
   "display_name": "Python 3 (ipykernel)",
   "language": "python",
   "name": "python3"
  },
  "language_info": {
   "codemirror_mode": {
    "name": "ipython",
    "version": 3
   },
   "file_extension": ".py",
   "mimetype": "text/x-python",
   "name": "python",
   "nbconvert_exporter": "python",
   "pygments_lexer": "ipython3",
   "version": "3.9.13"
  }
 },
 "nbformat": 4,
 "nbformat_minor": 5
}
